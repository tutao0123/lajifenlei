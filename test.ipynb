{
 "cells": [
  {
   "metadata": {
    "ExecuteTime": {
     "end_time": "2024-11-22T07:59:44.244061Z",
     "start_time": "2024-11-22T07:59:44.077300Z"
    }
   },
   "cell_type": "code",
   "source": [
    "import os\n",
    "\n",
    "dataset_path = \"G:/fenlei/train\"\n",
    "print(os.listdir(dataset_path))  # 列出数据集中顶层文件夹\n",
    "\n",
    "from torchvision import datasets, transforms\n",
    "\n",
    "transform = transforms.Compose([\n",
    "    transforms.Resize((224, 224)),\n",
    "    transforms.ToTensor(),\n",
    "    transforms.Normalize([0.5, 0.5, 0.5], [0.5, 0.5, 0.5])\n",
    "])\n",
    "\n",
    "dataset = datasets.ImageFolder(root=dataset_path, transform=transform)\n",
    "\n",
    "# 打印类别和样本数量\n",
    "print(f\"Classes: {dataset.classes}\")  # 列出类别名称\n",
    "print(f\"Class-to-Index Mapping: {dataset.class_to_idx}\")  # 类别到索引的映射\n",
    "print(f\"Total Images: {len(dataset)}\")  # 数据集中图片总数\n"
   ],
   "id": "a783b1d6c7a717b0",
   "outputs": [
    {
     "name": "stdout",
     "output_type": "stream",
     "text": [
      "['Harmful', 'Kitchen', 'Other', 'Recyclable']\n",
      "Classes: ['Harmful', 'Kitchen', 'Other', 'Recyclable']\n",
      "Class-to-Index Mapping: {'Harmful': 0, 'Kitchen': 1, 'Other': 2, 'Recyclable': 3}\n",
      "Total Images: 64000\n"
     ]
    }
   ],
   "execution_count": 33
  },
  {
   "metadata": {
    "ExecuteTime": {
     "end_time": "2024-11-22T08:13:01.009689Z",
     "start_time": "2024-11-22T08:00:06.784514Z"
    }
   },
   "cell_type": "code",
   "outputs": [
    {
     "name": "stdout",
     "output_type": "stream",
     "text": [
      "Epoch [1/2], Loss: 0.2449, Acc: 0.9128\n",
      "Epoch [2/2], Loss: 0.1048, Acc: 0.9635\n"
     ]
    }
   ],
   "execution_count": 34,
   "source": [
    "import torch\n",
    "import torch.nn as nn\n",
    "from torch.utils.data import DataLoader, random_split\n",
    "from torchvision import datasets, transforms\n",
    "from torchvision.models import resnet18, ResNet18_Weights\n",
    "from PIL import ImageFile\n",
    "ImageFile.LOAD_TRUNCATED_IMAGES = True\n",
    "\n",
    "# 数据预处理\n",
    "transform = transforms.Compose([\n",
    "    transforms.Resize((224, 224)),\n",
    "    transforms.ToTensor(),\n",
    "    transforms.Normalize([0.5, 0.5, 0.5], [0.5, 0.5, 0.5])\n",
    "])\n",
    "\n",
    "# 数据集加载和划分\n",
    "dataset_path = \"G:/fenlei/train\"\n",
    "dataset = datasets.ImageFolder(root=dataset_path, transform=transform)\n",
    "train_size = int(0.8 * len(dataset))\n",
    "val_size = len(dataset) - train_size\n",
    "train_set, val_set = random_split(dataset, [train_size, val_size])\n",
    "\n",
    "train_loader = DataLoader(train_set, batch_size=32, shuffle=True)\n",
    "val_loader = DataLoader(val_set, batch_size=32, shuffle=False)\n",
    "\n",
    "# 加载预训练模型并修改最后一层\n",
    "device = torch.device(\"cuda\" if torch.cuda.is_available() else \"cpu\")\n",
    "model = resnet18(weights=ResNet18_Weights.DEFAULT)\n",
    "model.fc = nn.Linear(model.fc.in_features, 4)  # 修改为 4 类输出\n",
    "model = model.to(device)\n",
    "\n",
    "# 损失函数和优化器\n",
    "criterion = nn.CrossEntropyLoss()\n",
    "optimizer = torch.optim.Adam(model.parameters(), lr=0.001)\n",
    "\n",
    "# 训练循环\n",
    "epochs = 2\n",
    "for epoch in range(epochs):\n",
    "    model.train()\n",
    "    train_loss, correct = 0, 0\n",
    "    for images, labels in train_loader:\n",
    "        images, labels = images.to(device), labels.to(device)\n",
    "\n",
    "        # 前向传播\n",
    "        outputs = model(images)\n",
    "        loss = criterion(outputs, labels)\n",
    "\n",
    "        # 反向传播与优化\n",
    "        optimizer.zero_grad()\n",
    "        loss.backward()\n",
    "        optimizer.step()\n",
    "\n",
    "        # 统计损失和准确率\n",
    "        train_loss += loss.item() * images.size(0)\n",
    "        _, preds = torch.max(outputs, 1)\n",
    "        correct += (preds == labels).sum().item()\n",
    "\n",
    "    print(f\"Epoch [{epoch+1}/{epochs}], Loss: {train_loss/len(train_set):.4f}, Acc: {correct/len(train_set):.4f}\")\n",
    "\n"
   ],
   "id": "85ecf2e56999e154"
  },
  {
   "metadata": {
    "ExecuteTime": {
     "end_time": "2024-11-22T08:13:38.239037Z",
     "start_time": "2024-11-22T08:13:13.220729Z"
    }
   },
   "cell_type": "code",
   "outputs": [
    {
     "name": "stdout",
     "output_type": "stream",
     "text": [
      "Class 1: 1221 images\n",
      "Class 3: 1333 images\n",
      "Class 2: 1075 images\n",
      "Class 0: 1371 images\n"
     ]
    }
   ],
   "execution_count": 35,
   "source": [
    "import os\n",
    "from PIL import Image\n",
    "from torch.utils.data import Dataset, DataLoader\n",
    "from torchvision import transforms\n",
    "import torch\n",
    "\n",
    "# 自定义未标记数据集类\n",
    "class UnlabeledDataset(Dataset):\n",
    "    def __init__(self, root_dir, transform=None):\n",
    "        self.root_dir = root_dir\n",
    "        self.transform = transform\n",
    "        self.image_paths = [os.path.join(root_dir, img) for img in os.listdir(root_dir) if img.endswith(('.jpg', '.png', '.jpeg'))]\n",
    "\n",
    "    def __len__(self):\n",
    "        return len(self.image_paths)\n",
    "\n",
    "    def __getitem__(self, idx):\n",
    "        img_path = self.image_paths[idx]\n",
    "        image = Image.open(img_path).convert(\"RGB\")\n",
    "        if self.transform:\n",
    "            image = self.transform(image)\n",
    "        return image, img_path\n",
    "\n",
    "# 路径和预处理\n",
    "test_dataset_path = \"G:/fenlei/eval\"\n",
    "transform = transforms.Compose([\n",
    "    transforms.Resize((224, 224)),\n",
    "    transforms.ToTensor(),\n",
    "    transforms.Normalize([0.5, 0.5, 0.5], [0.5, 0.5, 0.5])\n",
    "])\n",
    "\n",
    "# 创建测试数据加载器\n",
    "test_dataset = UnlabeledDataset(root_dir=test_dataset_path, transform=transform)\n",
    "test_loader = DataLoader(test_dataset, batch_size=32, shuffle=False)\n",
    "\n",
    "# 模型评估和预测\n",
    "model.eval()\n",
    "predictions = []\n",
    "device = torch.device(\"cuda\" if torch.cuda.is_available() else \"cpu\")\n",
    "\n",
    "with torch.no_grad():\n",
    "    for images, image_paths in test_loader:\n",
    "        images = images.to(device)\n",
    "        outputs = model(images)\n",
    "        _, preds = torch.max(outputs, 1)\n",
    "        for img_path, pred in zip(image_paths, preds.cpu().numpy()):\n",
    "            predictions.append((img_path, pred))\n",
    "\n",
    "from collections import Counter\n",
    "\n",
    "# 假设 predictions 是 (img_path, pred) 的列表\n",
    "# 提取所有的预测类别\n",
    "predicted_classes = [pred for _, pred in predictions]\n",
    "\n",
    "# 统计每个类别的数量\n",
    "class_counts = Counter(predicted_classes)\n",
    "\n",
    "# 打印每个类别的统计结果\n",
    "for class_id, count in class_counts.items():\n",
    "    print(f\"Class {class_id}: {count} images\")\n",
    "\n"
   ],
   "id": "93cf9df9f89a78e6"
  },
  {
   "metadata": {
    "ExecuteTime": {
     "end_time": "2024-11-22T08:19:32.780362Z",
     "start_time": "2024-11-22T08:19:32.718193Z"
    }
   },
   "cell_type": "code",
   "source": [
    "# 保存模型\n",
    "torch.save(model.state_dict(), \"./model.pth\")"
   ],
   "id": "6a3fe12d47d881d1",
   "outputs": [],
   "execution_count": 36
  },
  {
   "metadata": {
    "ExecuteTime": {
     "end_time": "2024-11-22T08:25:16.198044Z",
     "start_time": "2024-11-22T08:25:15.611509Z"
    }
   },
   "cell_type": "code",
   "source": [
    "# 导出为 ONNX\n",
    "dummy_input = torch.randn(1, 3, 224, 224).to(device)  # 模拟输入\n",
    "torch.onnx.export(\n",
    "    model,\n",
    "    dummy_input,\n",
    "    \"./model.onnx\",\n",
    "    input_names=[\"input\"],\n",
    "    output_names=[\"output\"],\n",
    "    opset_version=11  # 使用适配 RDK X5 的 ONNX Opset 版本\n",
    ")\n",
    "import onnx\n",
    "\n",
    "# 加载 ONNX 模型\n",
    "onnx_model = onnx.load(\"./model.onnx\")\n",
    "onnx.checker.check_model(onnx_model)  # 检查模型是否有效\n",
    "print(\"ONNX Model is valid.\")\n"
   ],
   "id": "eb3c933fa7d69cff",
   "outputs": [
    {
     "name": "stdout",
     "output_type": "stream",
     "text": [
      "ONNX Model is valid.\n"
     ]
    }
   ],
   "execution_count": 37
  }
 ],
 "metadata": {
  "kernelspec": {
   "display_name": "Python 3",
   "language": "python",
   "name": "python3"
  },
  "language_info": {
   "codemirror_mode": {
    "name": "ipython",
    "version": 2
   },
   "file_extension": ".py",
   "mimetype": "text/x-python",
   "name": "python",
   "nbconvert_exporter": "python",
   "pygments_lexer": "ipython2",
   "version": "2.7.6"
  }
 },
 "nbformat": 4,
 "nbformat_minor": 5
}
